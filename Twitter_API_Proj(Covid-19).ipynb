{
 "cells": [
  {
   "cell_type": "code",
   "execution_count": 1,
   "id": "39e0a2c7",
   "metadata": {},
   "outputs": [
    {
     "name": "stdout",
     "output_type": "stream",
     "text": [
      "Requirement already satisfied: tweepy in /Users/kerissaleons/opt/anaconda3/lib/python3.9/site-packages (4.12.1)\n",
      "Requirement already satisfied: requests<3,>=2.27.0 in /Users/kerissaleons/opt/anaconda3/lib/python3.9/site-packages (from tweepy) (2.27.1)\n",
      "Requirement already satisfied: oauthlib<4,>=3.2.0 in /Users/kerissaleons/opt/anaconda3/lib/python3.9/site-packages (from tweepy) (3.2.2)\n",
      "Requirement already satisfied: requests-oauthlib<2,>=1.2.0 in /Users/kerissaleons/opt/anaconda3/lib/python3.9/site-packages (from tweepy) (1.3.1)\n",
      "Requirement already satisfied: certifi>=2017.4.17 in /Users/kerissaleons/opt/anaconda3/lib/python3.9/site-packages (from requests<3,>=2.27.0->tweepy) (2021.10.8)\n",
      "Requirement already satisfied: idna<4,>=2.5 in /Users/kerissaleons/opt/anaconda3/lib/python3.9/site-packages (from requests<3,>=2.27.0->tweepy) (3.3)\n",
      "Requirement already satisfied: urllib3<1.27,>=1.21.1 in /Users/kerissaleons/opt/anaconda3/lib/python3.9/site-packages (from requests<3,>=2.27.0->tweepy) (1.26.9)\n",
      "Requirement already satisfied: charset-normalizer~=2.0.0 in /Users/kerissaleons/opt/anaconda3/lib/python3.9/site-packages (from requests<3,>=2.27.0->tweepy) (2.0.4)\n"
     ]
    }
   ],
   "source": [
    "!pip install tweepy"
   ]
  },
  {
   "cell_type": "code",
   "execution_count": 11,
   "id": "874d82ed",
   "metadata": {},
   "outputs": [],
   "source": [
    "import tweepy"
   ]
  },
  {
   "cell_type": "code",
   "execution_count": 12,
   "id": "9607360d",
   "metadata": {},
   "outputs": [],
   "source": [
    "file_name = 'keys.py'"
   ]
  },
  {
   "cell_type": "code",
   "execution_count": 13,
   "id": "67a4cbad",
   "metadata": {},
   "outputs": [
    {
     "name": "stdout",
     "output_type": "stream",
     "text": [
      "Overwriting keys.py\n"
     ]
    }
   ],
   "source": [
    "%%writefile {file_name}\n",
    "\n",
    "consumer_key=\"7Jcc208Lr6VCI4OewzTsWmcop\"\n",
    "consumer_secret=\"3aOGfUcpplWs6QVfisqlW2CIFORMlnQEy09R3coQ1NqoPPFZOy\"\n",
    "access_token=\"724634887295258625-jukxitLfaK0matTsjcOUihwvvW0SyUs\"\n",
    "access_token_secret=\"30zveFyXuhaqNX9u3W84qYeOWpTSN6N4JB48AokJtZeh5\"\n",
    "bearer_token=\"AAAAAAAAAAAAAAAAAAAAADYAlgEAAAAAr%2F62f5JZH98WS%2BEvzFh%2FaOkmxd4%3Do4FOlH0oTo9AzRXADJMaNumEGfbYF8CPs2535JO9X6J7shWPu0\""
   ]
  },
  {
   "cell_type": "code",
   "execution_count": 14,
   "id": "bedfc752",
   "metadata": {},
   "outputs": [],
   "source": [
    "from keys import *"
   ]
  },
  {
   "cell_type": "code",
   "execution_count": 15,
   "id": "20e69f23",
   "metadata": {},
   "outputs": [],
   "source": [
    "import requests\n",
    "\n",
    "client = tweepy.Client( bearer_token=bearer_token, \n",
    "                        consumer_key=consumer_key, \n",
    "                        consumer_secret=consumer_secret, \n",
    "                        access_token=access_token, \n",
    "                        access_token_secret=access_token_secret, \n",
    "                        return_type = requests.Response,\n",
    "                        wait_on_rate_limit=True)"
   ]
  },
  {
   "cell_type": "code",
   "execution_count": 53,
   "id": "9decdbe1",
   "metadata": {},
   "outputs": [
    {
     "data": {
      "text/plain": [
       "<Response [200]>"
      ]
     },
     "execution_count": 53,
     "metadata": {},
     "output_type": "execute_result"
    }
   ],
   "source": [
    "query = 'covid-19'\n",
    "\n",
    "# get max. 10 tweets\n",
    "tweets = client.search_recent_tweets(query=query, \n",
    "                                    tweet_fields=['author_id', 'created_at'],\n",
    "                                     max_results=10)\n",
    "\n",
    "tweets"
   ]
  },
  {
   "cell_type": "code",
   "execution_count": 54,
   "id": "a0b8d79e",
   "metadata": {},
   "outputs": [],
   "source": [
    "import pandas as pd\n",
    "\n",
    "# Save data as dictionary\n",
    "tweets_dict = tweets.json() \n",
    "\n",
    "# # Extract \"data\" value from dictionary\n",
    "tweets_data = tweets_dict['data'] \n",
    "\n",
    "# Transform to pandas Dataframe\n",
    "df = pd.json_normalize(tweets_data) "
   ]
  },
  {
   "cell_type": "code",
   "execution_count": 55,
   "id": "42e7502d",
   "metadata": {},
   "outputs": [
    {
     "data": {
      "text/html": [
       "<div>\n",
       "<style scoped>\n",
       "    .dataframe tbody tr th:only-of-type {\n",
       "        vertical-align: middle;\n",
       "    }\n",
       "\n",
       "    .dataframe tbody tr th {\n",
       "        vertical-align: top;\n",
       "    }\n",
       "\n",
       "    .dataframe thead th {\n",
       "        text-align: right;\n",
       "    }\n",
       "</style>\n",
       "<table border=\"1\" class=\"dataframe\">\n",
       "  <thead>\n",
       "    <tr style=\"text-align: right;\">\n",
       "      <th></th>\n",
       "      <th>edit_history_tweet_ids</th>\n",
       "      <th>id</th>\n",
       "      <th>text</th>\n",
       "      <th>created_at</th>\n",
       "      <th>author_id</th>\n",
       "    </tr>\n",
       "  </thead>\n",
       "  <tbody>\n",
       "    <tr>\n",
       "      <th>0</th>\n",
       "      <td>[1621869695388495873]</td>\n",
       "      <td>1621869695388495873</td>\n",
       "      <td>RT @grandmaster1976: Talagang tataas yan emplo...</td>\n",
       "      <td>2023-02-04T13:54:02.000Z</td>\n",
       "      <td>1211679398924939265</td>\n",
       "    </tr>\n",
       "    <tr>\n",
       "      <th>1</th>\n",
       "      <td>[1621869695149436929]</td>\n",
       "      <td>1621869695149436929</td>\n",
       "      <td>RT @CarnetDLaPatria: #ATENCIÓN El #SistemaPatr...</td>\n",
       "      <td>2023-02-04T13:54:02.000Z</td>\n",
       "      <td>1577306554637996032</td>\n",
       "    </tr>\n",
       "    <tr>\n",
       "      <th>2</th>\n",
       "      <td>[1621869692087582721]</td>\n",
       "      <td>1621869692087582721</td>\n",
       "      <td>How Many COVID-19 Infections Go Unreported Due...</td>\n",
       "      <td>2023-02-04T13:54:02.000Z</td>\n",
       "      <td>1585701279598157824</td>\n",
       "    </tr>\n",
       "    <tr>\n",
       "      <th>3</th>\n",
       "      <td>[1621869679722520583]</td>\n",
       "      <td>1621869679722520583</td>\n",
       "      <td>RT @cubavsbloqueo: Entre el 2020 y hasta septi...</td>\n",
       "      <td>2023-02-04T13:53:59.000Z</td>\n",
       "      <td>1491432445312479246</td>\n",
       "    </tr>\n",
       "    <tr>\n",
       "      <th>4</th>\n",
       "      <td>[1621869673624084480]</td>\n",
       "      <td>1621869673624084480</td>\n",
       "      <td>RT @DaveKotlyar: Nearly all excess death are 9...</td>\n",
       "      <td>2023-02-04T13:53:57.000Z</td>\n",
       "      <td>3946270637</td>\n",
       "    </tr>\n",
       "    <tr>\n",
       "      <th>5</th>\n",
       "      <td>[1621869670742761473]</td>\n",
       "      <td>1621869670742761473</td>\n",
       "      <td>RT @healthbyjames: 🚨BREAKING — New Bombshell S...</td>\n",
       "      <td>2023-02-04T13:53:57.000Z</td>\n",
       "      <td>1562216619065032704</td>\n",
       "    </tr>\n",
       "    <tr>\n",
       "      <th>6</th>\n",
       "      <td>[1621869669811458048]</td>\n",
       "      <td>1621869669811458048</td>\n",
       "      <td>RT @chrischirp: ADULTS AND TEENS ON 2 COVID DO...</td>\n",
       "      <td>2023-02-04T13:53:56.000Z</td>\n",
       "      <td>1167872090848075776</td>\n",
       "    </tr>\n",
       "    <tr>\n",
       "      <th>7</th>\n",
       "      <td>[1621869669324840961]</td>\n",
       "      <td>1621869669324840961</td>\n",
       "      <td>RT @doctormacias: COVID-19: variantes del viru...</td>\n",
       "      <td>2023-02-04T13:53:56.000Z</td>\n",
       "      <td>1592949524343001091</td>\n",
       "    </tr>\n",
       "    <tr>\n",
       "      <th>8</th>\n",
       "      <td>[1621869668322648064]</td>\n",
       "      <td>1621869668322648064</td>\n",
       "      <td>Intelligent Virtual Assistant Market is set to...</td>\n",
       "      <td>2023-02-04T13:53:56.000Z</td>\n",
       "      <td>1170667174739894274</td>\n",
       "    </tr>\n",
       "    <tr>\n",
       "      <th>9</th>\n",
       "      <td>[1621869664824397826]</td>\n",
       "      <td>1621869664824397826</td>\n",
       "      <td>RT @MNateShyamalan: there are so many conspira...</td>\n",
       "      <td>2023-02-04T13:53:55.000Z</td>\n",
       "      <td>410400724</td>\n",
       "    </tr>\n",
       "  </tbody>\n",
       "</table>\n",
       "</div>"
      ],
      "text/plain": [
       "  edit_history_tweet_ids                   id  \\\n",
       "0  [1621869695388495873]  1621869695388495873   \n",
       "1  [1621869695149436929]  1621869695149436929   \n",
       "2  [1621869692087582721]  1621869692087582721   \n",
       "3  [1621869679722520583]  1621869679722520583   \n",
       "4  [1621869673624084480]  1621869673624084480   \n",
       "5  [1621869670742761473]  1621869670742761473   \n",
       "6  [1621869669811458048]  1621869669811458048   \n",
       "7  [1621869669324840961]  1621869669324840961   \n",
       "8  [1621869668322648064]  1621869668322648064   \n",
       "9  [1621869664824397826]  1621869664824397826   \n",
       "\n",
       "                                                text  \\\n",
       "0  RT @grandmaster1976: Talagang tataas yan emplo...   \n",
       "1  RT @CarnetDLaPatria: #ATENCIÓN El #SistemaPatr...   \n",
       "2  How Many COVID-19 Infections Go Unreported Due...   \n",
       "3  RT @cubavsbloqueo: Entre el 2020 y hasta septi...   \n",
       "4  RT @DaveKotlyar: Nearly all excess death are 9...   \n",
       "5  RT @healthbyjames: 🚨BREAKING — New Bombshell S...   \n",
       "6  RT @chrischirp: ADULTS AND TEENS ON 2 COVID DO...   \n",
       "7  RT @doctormacias: COVID-19: variantes del viru...   \n",
       "8  Intelligent Virtual Assistant Market is set to...   \n",
       "9  RT @MNateShyamalan: there are so many conspira...   \n",
       "\n",
       "                 created_at            author_id  \n",
       "0  2023-02-04T13:54:02.000Z  1211679398924939265  \n",
       "1  2023-02-04T13:54:02.000Z  1577306554637996032  \n",
       "2  2023-02-04T13:54:02.000Z  1585701279598157824  \n",
       "3  2023-02-04T13:53:59.000Z  1491432445312479246  \n",
       "4  2023-02-04T13:53:57.000Z           3946270637  \n",
       "5  2023-02-04T13:53:57.000Z  1562216619065032704  \n",
       "6  2023-02-04T13:53:56.000Z  1167872090848075776  \n",
       "7  2023-02-04T13:53:56.000Z  1592949524343001091  \n",
       "8  2023-02-04T13:53:56.000Z  1170667174739894274  \n",
       "9  2023-02-04T13:53:55.000Z            410400724  "
      ]
     },
     "execution_count": 55,
     "metadata": {},
     "output_type": "execute_result"
    }
   ],
   "source": [
    "df"
   ]
  },
  {
   "cell_type": "code",
   "execution_count": 56,
   "id": "180a1b2c",
   "metadata": {},
   "outputs": [],
   "source": [
    "# save df\n",
    "df.to_csv(\"tweets-covid.csv\")\n"
   ]
  },
  {
   "cell_type": "code",
   "execution_count": null,
   "id": "281e8c28",
   "metadata": {},
   "outputs": [],
   "source": []
  }
 ],
 "metadata": {
  "kernelspec": {
   "display_name": "Python 3 (ipykernel)",
   "language": "python",
   "name": "python3"
  },
  "language_info": {
   "codemirror_mode": {
    "name": "ipython",
    "version": 3
   },
   "file_extension": ".py",
   "mimetype": "text/x-python",
   "name": "python",
   "nbconvert_exporter": "python",
   "pygments_lexer": "ipython3",
   "version": "3.9.12"
  }
 },
 "nbformat": 4,
 "nbformat_minor": 5
}
